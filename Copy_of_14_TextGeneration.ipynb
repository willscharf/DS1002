{
  "nbformat": 4,
  "nbformat_minor": 0,
  "metadata": {
    "colab": {
      "provenance": [],
      "include_colab_link": true
    },
    "kernelspec": {
      "name": "python3",
      "display_name": "Python 3"
    },
    "language_info": {
      "name": "python"
    }
  },
  "cells": [
    {
      "cell_type": "markdown",
      "metadata": {
        "id": "view-in-github",
        "colab_type": "text"
      },
      "source": [
        "<a href=\"https://colab.research.google.com/github/willscharf/DS1002/blob/main/Copy_of_14_TextGeneration.ipynb\" target=\"_parent\"><img src=\"https://colab.research.google.com/assets/colab-badge.svg\" alt=\"Open In Colab\"/></a>"
      ]
    },
    {
      "cell_type": "markdown",
      "source": [
        "## Final homework assignment:  generating text from a corpus\n",
        "\n",
        "Due Friday 3 May at 5 pm"
      ],
      "metadata": {
        "id": "tWbrZqoW5281"
      }
    },
    {
      "cell_type": "markdown",
      "source": [
        "We begin by loading all of Shakespeare's plays into a text file, and separating them into individual words.  This is made easy by the fact that someone already made a giant text file of these plays for us, and put it online.\n",
        "\n",
        "[Note that by changing the url in the following code chunk, you can load any text file that lives online in this way . . . see below.]\n",
        "\n",
        "Run the following code.  It should output a list of ten words, starting with 'From' and ending with 'rose'."
      ],
      "metadata": {
        "id": "7tMMjgkjF7gk"
      }
    },
    {
      "cell_type": "markdown",
      "source": [
        "Andrew McNeill, Ben Garozzo, Will Scharfenberger"
      ],
      "metadata": {
        "id": "OT2eIPOi5XZt"
      }
    },
    {
      "cell_type": "code",
      "source": [
        "from urllib.request import urlopen            #package for reading info from the web\n",
        "url='https://ocw.mit.edu/ans7870/6/6.006/s08/lecturenotes/files/t8.shakespeare.txt'   #web address\n",
        "text = urlopen(url).read().decode('utf-8')    #open web address, read file, convert to text\n",
        "shakespeare_words=text.split()[1651:]         #split text into words (not including preamble)\n",
        "shakespeare_words[:10]                        #display the first 10 words"
      ],
      "metadata": {
        "id": "PoW71ljm2GS-",
        "colab": {
          "base_uri": "https://localhost:8080/"
        },
        "outputId": "2ae91472-6210-4a0e-9648-5b1885ccca44"
      },
      "execution_count": null,
      "outputs": [
        {
          "output_type": "execute_result",
          "data": {
            "text/plain": [
              "['From',\n",
              " 'fairest',\n",
              " 'creatures',\n",
              " 'we',\n",
              " 'desire',\n",
              " 'increase,',\n",
              " 'That',\n",
              " 'thereby',\n",
              " \"beauty's\",\n",
              " 'rose']"
            ]
          },
          "metadata": {},
          "execution_count": 2
        }
      ]
    },
    {
      "cell_type": "markdown",
      "source": [
        "## 1. `nextwords` practice\n",
        "\n",
        "Create a practice function called `createNextwordsPractice` which takes a list of words called `wordlist` and returns a dictionary called `nextwordsPractice`. The keys of `nextwordsPractice` should be all the words in `wordlist`, and the value for any given key should be a list of all the words that follow the key word somewhere in the original `wordlist`.\n",
        "\n"
      ],
      "metadata": {
        "id": "AIeohQaAHRF8"
      }
    },
    {
      "cell_type": "code",
      "source": [
        "def createNextwordsPractice(wordlist):\n",
        "    nextwordsPractice = {}\n",
        "    for i in range(len(wordlist) - 1):\n",
        "        current_word = wordlist[i]\n",
        "        next_word = wordlist[i + 1]\n",
        "        if current_word in nextwordsPractice:\n",
        "            nextwordsPractice[current_word].append(next_word)\n",
        "        else:\n",
        "            nextwordsPractice[current_word] = [next_word]\n",
        "    return nextwordsPractice"
      ],
      "metadata": {
        "id": "2XZa2K3C3InW"
      },
      "execution_count": null,
      "outputs": []
    },
    {
      "cell_type": "markdown",
      "source": [
        "Run the following code:"
      ],
      "metadata": {
        "id": "FH3N2raWjtfd"
      }
    },
    {
      "cell_type": "code",
      "source": [
        "practice = createNextwordsPractice(shakespeare_words)\n",
        "practice['From']"
      ],
      "metadata": {
        "id": "P3M8beYAjiie",
        "colab": {
          "base_uri": "https://localhost:8080/"
        },
        "outputId": "ad5793ce-a560-41ac-b8e2-a739a2b63021"
      },
      "execution_count": null,
      "outputs": [
        {
          "output_type": "execute_result",
          "data": {
            "text/plain": [
              "['fairest',\n",
              " 'his',\n",
              " 'sullen',\n",
              " 'limits',\n",
              " 'hands',\n",
              " 'whence',\n",
              " 'where',\n",
              " 'me',\n",
              " 'this',\n",
              " 'thy',\n",
              " 'hence',\n",
              " 'thee,',\n",
              " 'you',\n",
              " 'heaven',\n",
              " 'her',\n",
              " 'simple',\n",
              " 'whence',\n",
              " 'below',\n",
              " 'lowest',\n",
              " 'courtly',\n",
              " 'son',\n",
              " 'the',\n",
              " 'the',\n",
              " 'Sicyon,',\n",
              " 'Alexandria',\n",
              " 'Silvius,',\n",
              " 'mine',\n",
              " 'the',\n",
              " 'firm',\n",
              " 'Egypt',\n",
              " 'Antony',\n",
              " 'thine',\n",
              " 'that',\n",
              " 'my',\n",
              " 'me',\n",
              " 'henceforth',\n",
              " 'tyrant',\n",
              " 'seventeen',\n",
              " 'miserable',\n",
              " 'whom',\n",
              " 'my',\n",
              " 'whence,',\n",
              " 'me',\n",
              " 'me',\n",
              " 'slaves',\n",
              " 'every',\n",
              " 'rascals',\n",
              " 'whom',\n",
              " 'where',\n",
              " \"th'\",\n",
              " 'Rome',\n",
              " 'off',\n",
              " 'these',\n",
              " 'twelve',\n",
              " \"th'\",\n",
              " 'whence?',\n",
              " 'Rome.',\n",
              " 'thy',\n",
              " 'Gallia',\n",
              " 'fairies',\n",
              " 'off',\n",
              " \"th'\",\n",
              " 'most',\n",
              " 'thy',\n",
              " 'youth',\n",
              " 'every',\n",
              " 'whose',\n",
              " 'so',\n",
              " 'one',\n",
              " 'this',\n",
              " 'the',\n",
              " 'east',\n",
              " 'action',\n",
              " 'my',\n",
              " 'this',\n",
              " 'Leonati',\n",
              " 'her',\n",
              " 'chance',\n",
              " 'south',\n",
              " 'our',\n",
              " 'whence',\n",
              " 'the',\n",
              " 'top',\n",
              " 'this',\n",
              " 'our',\n",
              " 'that',\n",
              " 'me,',\n",
              " 'fashion',\n",
              " 'the',\n",
              " 'another',\n",
              " 'Hamlet?',\n",
              " 'whence',\n",
              " 'whom',\n",
              " \"Rumour's\",\n",
              " 'whence',\n",
              " 'the',\n",
              " 'a',\n",
              " 'a',\n",
              " 'enemies',\n",
              " 'every',\n",
              " 'this',\n",
              " 'the',\n",
              " 'open',\n",
              " 'whom',\n",
              " \"glist'ring\",\n",
              " 'our',\n",
              " 'him,',\n",
              " 'his',\n",
              " 'him,',\n",
              " 'camp',\n",
              " 'this',\n",
              " 'off',\n",
              " 'helmet',\n",
              " 'him',\n",
              " 'off',\n",
              " 'Lionel',\n",
              " 'John',\n",
              " 'famous',\n",
              " 'envious',\n",
              " 'whence',\n",
              " 'thence',\n",
              " 'bought',\n",
              " 'thee,',\n",
              " 'top',\n",
              " 'thence',\n",
              " 'meaning',\n",
              " \"treason's\",\n",
              " 'such',\n",
              " 'thee',\n",
              " 'Ireland',\n",
              " \"Clifford's\",\n",
              " 'your',\n",
              " 'London',\n",
              " 'whence',\n",
              " 'off',\n",
              " 'whence',\n",
              " 'Scotland',\n",
              " 'such',\n",
              " 'worthy',\n",
              " 'these',\n",
              " 'giving',\n",
              " 'France?',\n",
              " 'Ravenspurgh',\n",
              " 'shelves',\n",
              " 'those',\n",
              " 'his',\n",
              " 'sincere',\n",
              " 'every',\n",
              " 'foreign',\n",
              " 'princes',\n",
              " 'these',\n",
              " 'any',\n",
              " 'Ampthill,',\n",
              " 'your',\n",
              " 'hence',\n",
              " 'her',\n",
              " 'henceforth',\n",
              " 'France',\n",
              " 'whom',\n",
              " 'that',\n",
              " 'first',\n",
              " 'north',\n",
              " 'all',\n",
              " 'a',\n",
              " 'his',\n",
              " 'France',\n",
              " 'forth',\n",
              " 'whose',\n",
              " 'forth',\n",
              " 'this',\n",
              " 'out',\n",
              " 'forth',\n",
              " 'that',\n",
              " 'the',\n",
              " 'which',\n",
              " 'whom',\n",
              " 'what',\n",
              " 'the',\n",
              " 'hence',\n",
              " 'this',\n",
              " 'Goneril',\n",
              " 'those',\n",
              " 'seasons',\n",
              " 'that',\n",
              " 'her',\n",
              " 'the',\n",
              " 'a',\n",
              " 'tawny',\n",
              " \"reason's\",\n",
              " 'my',\n",
              " 'which',\n",
              " 'my',\n",
              " 'the',\n",
              " \"women's\",\n",
              " 'whence',\n",
              " \"women's\",\n",
              " 'morn',\n",
              " 'what',\n",
              " 'Fife,',\n",
              " 'hence',\n",
              " 'this',\n",
              " 'thence',\n",
              " 'whom',\n",
              " 'the',\n",
              " 'this',\n",
              " 'whence',\n",
              " 'what',\n",
              " 'over-credulous',\n",
              " 'which',\n",
              " 'too',\n",
              " 'whom',\n",
              " 'his',\n",
              " 'fasting',\n",
              " 'thee;',\n",
              " \"flow'ry\",\n",
              " 'thine',\n",
              " 'such',\n",
              " 'our',\n",
              " 'such',\n",
              " 'the',\n",
              " 'the',\n",
              " 'whom',\n",
              " 'Tripolis,',\n",
              " 'Lisbon,',\n",
              " 'out',\n",
              " 'any',\n",
              " 'brassy',\n",
              " 'stubborn',\n",
              " 'both,',\n",
              " 'the',\n",
              " 'the',\n",
              " 'time',\n",
              " 'Athens',\n",
              " \"lovers'\",\n",
              " 'Perigouna,',\n",
              " 'our',\n",
              " 'sleeping',\n",
              " \"monster's\",\n",
              " 'these',\n",
              " 'off',\n",
              " 'the',\n",
              " 'my',\n",
              " 'Claudio,',\n",
              " 'men',\n",
              " 'year',\n",
              " 'her',\n",
              " 'him',\n",
              " 'one',\n",
              " 'jealousy!',\n",
              " 'whence',\n",
              " 'the',\n",
              " 'any',\n",
              " 'the',\n",
              " 'this',\n",
              " 'giving',\n",
              " 'where',\n",
              " 'forth',\n",
              " 'some',\n",
              " 'Ravenspurgh',\n",
              " 'the',\n",
              " 'forth',\n",
              " 'off',\n",
              " 'my',\n",
              " \"Richard's\",\n",
              " 'out',\n",
              " 'sun',\n",
              " \"plume-pluck'd\",\n",
              " 'which',\n",
              " 'whence',\n",
              " 'your',\n",
              " 'whence',\n",
              " 'cold',\n",
              " 'wayward',\n",
              " 'that',\n",
              " 'this',\n",
              " 'my',\n",
              " 'the',\n",
              " 'all',\n",
              " 'forth',\n",
              " 'which',\n",
              " 'all',\n",
              " 'Tamworth',\n",
              " 'the',\n",
              " 'ancient',\n",
              " 'forth',\n",
              " \"Love's\",\n",
              " 'forth',\n",
              " 'off',\n",
              " 'this',\n",
              " 'all',\n",
              " 'Florence,',\n",
              " 'mine',\n",
              " 'the',\n",
              " 'what',\n",
              " 'me,',\n",
              " 'bogs,',\n",
              " 'me',\n",
              " 'Milan',\n",
              " 'toe',\n",
              " 'eaves',\n",
              " 'strange',\n",
              " 'whence',\n",
              " 'Isidore:',\n",
              " 'our',\n",
              " 'forth',\n",
              " 'change',\n",
              " \"gen'ral\",\n",
              " 'high',\n",
              " 'Alcibiades',\n",
              " 'niggard',\n",
              " 'weary',\n",
              " 'where',\n",
              " 'whence',\n",
              " 'this',\n",
              " 'these',\n",
              " 'thousand',\n",
              " 'heaven!',\n",
              " 'isles',\n",
              " 'his',\n",
              " 'Troy.',\n",
              " \"Cupid's\",\n",
              " 'false',\n",
              " 'certain',\n",
              " 'Troy',\n",
              " 'heart',\n",
              " 'whence,',\n",
              " 'my',\n",
              " 'the',\n",
              " 'the',\n",
              " 'my',\n",
              " 'a',\n",
              " 'hence,',\n",
              " 'Milan.',\n",
              " 'whom?',\n",
              " 'my',\n",
              " 'heartiness,',\n",
              " 'east,',\n",
              " 'course',\n",
              " 'him',\n",
              " 'our',\n",
              " 'all',\n",
              " 'your',\n",
              " 'those',\n",
              " 'the',\n",
              " \"Dis's\",\n",
              " 'the',\n",
              " 'my',\n",
              " 'thy',\n",
              " 'off']"
            ]
          },
          "metadata": {},
          "execution_count": 5
        }
      ]
    },
    {
      "cell_type": "code",
      "source": [
        "practice['rose']"
      ],
      "metadata": {
        "id": "W5FCOXElICLb",
        "colab": {
          "base_uri": "https://localhost:8080/"
        },
        "outputId": "a8447a6a-6359-45a0-eee6-39a77934faa3"
      },
      "execution_count": null,
      "outputs": [
        {
          "output_type": "execute_result",
          "data": {
            "text/plain": [
              "['might',\n",
              " 'looks',\n",
              " 'is',\n",
              " 'of',\n",
              " 'Of',\n",
              " 'may',\n",
              " 'will',\n",
              " 'of',\n",
              " 'From',\n",
              " 'and',\n",
              " 'of',\n",
              " 'both',\n",
              " 'with',\n",
              " 'from',\n",
              " 'with',\n",
              " 'with',\n",
              " 'side.',\n",
              " 'red,',\n",
              " 'too.',\n",
              " 'in',\n",
              " 'a',\n",
              " 'a',\n",
              " 'I',\n",
              " 'against',\n",
              " 'that',\n",
              " 'and',\n",
              " 'from',\n",
              " 'again,',\n",
              " 'Lest',\n",
              " 'against',\n",
              " 'Than',\n",
              " \"distill'd\",\n",
              " 'on',\n",
              " 'up',\n",
              " 'in',\n",
              " 'wither.',\n",
              " 'and',\n",
              " 'By',\n",
              " 'again?',\n",
              " 'he']"
            ]
          },
          "metadata": {},
          "execution_count": 7
        }
      ]
    },
    {
      "cell_type": "code",
      "source": [
        "practice['rose.']"
      ],
      "metadata": {
        "id": "Vr57wNx5BO4K",
        "colab": {
          "base_uri": "https://localhost:8080/"
        },
        "outputId": "9e2f6894-398e-42e7-8e3e-de952cbd2da9"
      },
      "execution_count": null,
      "outputs": [
        {
          "output_type": "execute_result",
          "data": {
            "text/plain": [
              "['It']"
            ]
          },
          "metadata": {},
          "execution_count": 6
        }
      ]
    },
    {
      "cell_type": "markdown",
      "source": [
        "## 2. `nextwords` for real:  new sentences.\n",
        "\n",
        "Next, write a new function called `createNextwords` which takes a `wordlist` and returns a dictionary of `nextwords`, but now with a new additional feature.  \n",
        "In addition to the keys from problem 1, add a special key to the dictionary, which will be the symbol '%'.  This key will signify the first word of a sentence. When scanning the wordlist to construct the `nextwords` dictionary, normally you would add `wordlist[i+1]` to the list `nextwords[wordlist[i]]`. However, if `wordlist[i]` ends with a period, then you should instead add `wordlist[i+1]` to the list nextwords['%']. Also add the very first word of `wordlist` to nextwords['%'].\n",
        "\n",
        "\n",
        "You should be able to produce this output:\n",
        "```\n",
        "> shakespeare_nextwords=createNextwords(shakespeare_words)\n",
        "> shakespeare_nextwords['Rose']\n",
        "['at', 'or', 'or', 'and']\n",
        "\n",
        "> shakespeare_nextwords['rose.']\n",
        "[]\n",
        "\n",
        "> len(shakespeare_nextwords['%'])\n",
        "76543\n",
        "```"
      ],
      "metadata": {
        "id": "t221x1X3iRVA"
      }
    },
    {
      "cell_type": "code",
      "source": [
        "def createNextwords(wordlist):\n",
        "    nextwords = {}\n",
        "    nextwords['%'] = [wordlist[0]]  # Add the first word of the wordlist to '%' key\n",
        "\n",
        "    for i in range(len(wordlist) - 1):\n",
        "        current_word = wordlist[i]\n",
        "        next_word = wordlist[i + 1]\n",
        "\n",
        "        if current_word.endswith('.'):\n",
        "            if '%' not in nextwords:\n",
        "                nextwords['%'] = []\n",
        "            nextwords['%'].append(next_word)\n",
        "            if current_word not in nextwords:\n",
        "                nextwords[current_word] = []\n",
        "        else:\n",
        "            if current_word not in nextwords:\n",
        "                nextwords[current_word] = []\n",
        "            nextwords[current_word].append(next_word)\n",
        "\n",
        "    return nextwords\n",
        "\n",
        "\n"
      ],
      "metadata": {
        "id": "Ze_-Uv2alRWX"
      },
      "execution_count": null,
      "outputs": []
    },
    {
      "cell_type": "markdown",
      "source": [
        "Run the following code:"
      ],
      "metadata": {
        "id": "x7bamoxBlX6Q"
      }
    },
    {
      "cell_type": "code",
      "source": [
        "shakespeare_nextwords = createNextwords(shakespeare_words)\n",
        "\n",
        "print(shakespeare_nextwords['Rose'])\n",
        "print(len(shakespeare_nextwords['%']))"
      ],
      "metadata": {
        "id": "xv4ANlzvlZ2e",
        "colab": {
          "base_uri": "https://localhost:8080/"
        },
        "outputId": "681c24e5-bbe5-4d3e-a48b-eb43896542d4"
      },
      "execution_count": null,
      "outputs": [
        {
          "output_type": "stream",
          "name": "stdout",
          "text": [
            "['at', 'or', 'or', 'and']\n",
            "76543\n"
          ]
        }
      ]
    },
    {
      "cell_type": "code",
      "source": [
        "print(len(shakespeare_nextwords['rose']))"
      ],
      "metadata": {
        "id": "NsLW7PYYCj1r",
        "colab": {
          "base_uri": "https://localhost:8080/"
        },
        "outputId": "48887660-78b3-4aa4-93cb-6b7fdc94bb68"
      },
      "execution_count": null,
      "outputs": [
        {
          "output_type": "stream",
          "name": "stdout",
          "text": [
            "40\n"
          ]
        }
      ]
    },
    {
      "cell_type": "code",
      "source": [
        "print(shakespeare_nextwords['rose.'])"
      ],
      "metadata": {
        "id": "NyjLxUKiIPqG",
        "colab": {
          "base_uri": "https://localhost:8080/"
        },
        "outputId": "08030c89-c8a8-4333-cf93-a4a41361e302"
      },
      "execution_count": null,
      "outputs": [
        {
          "output_type": "stream",
          "name": "stdout",
          "text": [
            "[]\n"
          ]
        }
      ]
    },
    {
      "cell_type": "markdown",
      "source": [
        "## 3.  Make your own Shakespeare play\n",
        "\n",
        "Okay, that may be a bit of an exaggeration.  Anyway, next up is text generation.  \n",
        "We'll need the choice function:"
      ],
      "metadata": {
        "id": "BCIAfYSIX3VC"
      }
    },
    {
      "cell_type": "code",
      "source": [
        "from random import choice"
      ],
      "metadata": {
        "id": "rbBHDv55Biae"
      },
      "execution_count": null,
      "outputs": []
    },
    {
      "cell_type": "markdown",
      "source": [
        "This function chooses a random element from a list.  Run this code a few times:"
      ],
      "metadata": {
        "id": "-vCM3Z0BmAw9"
      }
    },
    {
      "cell_type": "code",
      "source": [
        "choice([1, 17, 34, 289])"
      ],
      "metadata": {
        "colab": {
          "base_uri": "https://localhost:8080/"
        },
        "id": "FGMf-UmAl_uf",
        "outputId": "ace1427a-4dd1-42c1-de34-76c64d562eb2"
      },
      "execution_count": null,
      "outputs": [
        {
          "output_type": "execute_result",
          "data": {
            "text/plain": [
              "289"
            ]
          },
          "metadata": {},
          "execution_count": 15
        }
      ]
    },
    {
      "cell_type": "markdown",
      "source": [
        "Now, create a function called `makePlay(nextwords,n)` which takes a dictionary `nextwords` and a number `n`, and follows these steps:\n",
        "1. Define an empty `newplay` string.  (I did this for you.)\n",
        "2. Set `currentword` equal to '%'.\n",
        "3. Start a for-loop that will run `n` times.\n",
        "4. Randomly choose a word from the list `nextwords[currentword]`.\n",
        "5. Add the chosen word to `newplay`, followed by a space `' '` character.\n",
        "6. If the chosen word ends in a period, add a newline character '\\n' and set `currentword` equal to `%`.\n",
        "7. Otherwise, set `currentword` equal to the chosen word.\n",
        "8. Go back to step 4.\n",
        "9. When all `n` iterations have finished, your function should return `newplay`."
      ],
      "metadata": {
        "id": "ZmLqxclQYMpl"
      }
    },
    {
      "cell_type": "code",
      "source": [
        "import random\n",
        "\n",
        "def makePlay(nextwords, n):\n",
        "    newplay = ''\n",
        "    currentword = '%'\n",
        "\n",
        "    for _ in range(n):\n",
        "        word_choices = nextwords.get(currentword, [])\n",
        "        if not word_choices:\n",
        "            break\n",
        "\n",
        "        chosen_word = random.choice(word_choices)\n",
        "        newplay += chosen_word + ' '\n",
        "\n",
        "        if chosen_word.endswith('.'):\n",
        "            newplay += '\\n'\n",
        "            currentword = '%'\n",
        "        else:\n",
        "            currentword = chosen_word\n",
        "\n",
        "    return newplay\n",
        "\n"
      ],
      "metadata": {
        "id": "gMxDF-MiYqD2"
      },
      "execution_count": null,
      "outputs": []
    },
    {
      "cell_type": "markdown",
      "source": [
        "Now create a 1000 word Shakesperian play by running the following code:"
      ],
      "metadata": {
        "id": "v_uCxqDZtuhP"
      }
    },
    {
      "cell_type": "code",
      "source": [
        "nextwords=createNextwords(shakespeare_words)\n",
        "newplay=makePlay(nextwords,1000)\n",
        "print(newplay)"
      ],
      "metadata": {
        "id": "KVtzPXWWEdDR",
        "colab": {
          "base_uri": "https://localhost:8080/"
        },
        "outputId": "a44d1e21-9a8a-4efa-a954-f94da87fa34d"
      },
      "execution_count": null,
      "outputs": [
        {
          "output_type": "stream",
          "name": "stdout",
          "text": [
            "And from Time comes to myself meantime let him be a house Enter two years a brace. \n",
            "O, many kings. \n",
            "WILLIAMS. \n",
            "He presents no longer than our neighbours. \n",
            "By gar, you have not snatch or evil disposition made our honours, and so much disquiet. \n",
            "Till when, I'll come to th' great; and, seeing self? It should infect the work? FIRST MURDERER. \n",
            "Nay, good cheer. \n",
            "DIANA. \n",
            "Adieu till it legitimate, sir, and out logs And let the King's own good night englutted! Who talks at your unity. \n",
            "My letter he hears with blood, no warning something sweet honey of Wincot, if he comes, And lend this shall be so, That late appeal, And to divine air! Now spurs too long, now but between its contrary places; were forewarned of anything. \n",
            "Pardon, pardon! As victors wear my friends. \n",
            "But whe'er you this? NESTOR. \n",
            "Renowned Pompey! BOYET. \n",
            "Alack, I hope. \n",
            "THERSITES. \n",
            "Tell her tongue to praise for this count? SPEED. \n",
            "But sun looks fair, and dangers on her too: Marullus and Nurse.] Nurse. \n",
            "'Tis true, my master, to my jealousy! <Exeunt all her awhile given him tremble here, sir, from whence you always favour'd him. \n",
            "My lords, omit Nothing but I shall lead you what-I think you, gentle tongue? But life, and twenty years since thou shalt thou most ignorant credulity will find our ventures. \n",
            "What's the subject to others CORIOLANUS. \n",
            "I am sped. \n",
            "PAROLLES. \n",
            "Queen. \n",
            "King. \n",
            "His days hence amain. \n",
            "Upon my grace. \n",
            "But not envious, Which if The King's Council table brought into the sweet-marjoram of happiness. \n",
            "Such safety through his love Which is the buildings and devout religious men Carrying, I charge thee, my similes of it. \n",
            "Both. \n",
            "I am sure of wine. \n",
            "SOOTHSAYER. \n",
            "I sent this strict a pedant, Judas kiss'd fasting, Upon this sheet, And tarry and he's gone with the other I pray with him, he painted beauty is a worthless satisfaction. \n",
            "Ay, sir. \n",
            "Look up; I wish him deserv'd of sight, Ears without expense by strange speech of fowl sits. \n",
            "Foolish wench! Come hither. \n",
            "PRINCE. \n",
            "And, in th' ulcer! Hamlet hither, Hubert. \n",
            "I Will, when 'twas just cause, do not for her when I am of ancient bickerings. \n",
            "France. \n",
            "Your words become an old Jack Cade driven To be, And if you for a name; But send her chamber again With the court news; Had we went without a trusty squire he yokes Become some common grow. \n",
            "My lord, best citizens With shining nights have I do it; And from heaven I pray thee, my precious image and wise and makes me kneel, sweet jests, most rare semblance of my part, I thought you must expect you. \n",
            "This silence that he would desire Of many worthy cause of my curse! GLOUCESTER. \n",
            "But when we crying fellow has no stronger part to thee for that my guard, and every ear! When our faces; for two branches- those that he had fear'd and not choose Mine hair off that he were borne himself in His child shall not ha' prais'd ye make Will not for me. \n",
            "The lieutenant tonight shall ask; For by And what's cast in his body. \n",
            "It may set the displanting of either young and then, in Troilus lodges there the Lord's sake.' With sands That they think he hath given me knave. \n",
            "So needful 'tis foul! I say you hear good cousin now? SECOND LORD. \n",
            "Madam, now my stay no mortal fury not sent the sun, and money here, how now, He hath. \n",
            "Upon old at it will piece many a simple peasant. \n",
            "It shall know what they know How both at band; For goodness, sorry that e'er thou this answer.\" LENNOX. \n",
            "The leaders, having so vile fiend and heard herself But his liege! KING HENRY. \n",
            "Cut thread with my witnesses. \n",
            "DUKE. \n",
            "And so, madam. \n",
            "Alb. \n",
            "Now, sir, I'll look you, And in some more great- Arise Sir John, a hundred ducats. \n",
            "DAUPHIN. \n",
            "Now I alone Here is not give. \n",
            "With such a damned minutes how to my lord. \n",
            "[Dies] QUEEN KATHARINE. \n",
            "The bonds his son of canary! When the gastness of sharp wind blow away these fashion-mongers, these lazy time, for, to bear greater gift! O, you mean? Corn. \n",
            "CAESAR. \n",
            "BASSANIO. \n",
            "If the difference in his ears as a bout with purpled hands do establish he sent by them. \n",
            "PROHIBITED COMMERCIAL DISTRIBUTION INCLUDES BY PROJECT GUTENBERG ETEXT OF WILLIAM SHAKESPEARE IS PROVIDED BY PROJECT GUTENBERG ETEXT OF WILLIAM SHAKESPEARE IS PROVIDED BY WORLD LIBRARY, INC., AND (2) ARE NOT DISTRIBUTED OR FOR YOUR OR FOR DOWNLOAD TIME OR OTHERS PERSONAL USE ONLY, AND MACHINE READABLE COPIES (1) ARE FOR MEMBERSHIP.>> 1595 THE COMPLETE WORKS OF SYRACUSE. \n",
            "Thy gate of sense, you will stay. \n",
            "Osr. \n",
            "He is all and Attendants. \n",
            "LODOVICO. \n",
            "FLAVIUS. \n",
            "So mighty lord Most royal fellowship in fierce wretchedness o'er-charged, And never peace, Paulina! Thou art so fair meanings, sir. \n",
            "Fare ye to you, either not against thee? DROMIO OF SYRACUSE. \n",
            "[Sings] The white and Officers attending. \n",
            "125 Were't twenty husbands. \n",
            "Hath power to ask what joy Express'd and rest. \n",
            "O day! take me to see what issue out his own good Adam! No kin, I have done enough. \n",
            "[Stands apart] DUMAIN. \n",
            "All. \n",
            "COSTARD. \n",
            "KING HENRY. \n",
            "I have the night, yet come to justice, and my fear Thou bleed'st apace. \n",
            "CORIOLANUS. \n",
            "March to see no good lord; You turn To come no art. \n",
            "Enter Kent. \n",
            "Exeunt ROSALIND and tender of them how many hundreds treading on and lay upon; Go to; follow. \n",
            "Demetrius OBERON, King t' unloose; smooth discourse of that? BIANCA. \n",
            "Last thing of the puppets dallying. \n",
            "O well-a-day, Mistress Mall's picture? What's best I had the prologue. \n",
            "Guil. \n",
            "It is no more laugh'd at. \n",
            "How may That everything is no man in the business give his charity, be well said. \n",
            "Perge, good old as fair state, Cannot dispraise, She lov'd your hand on a punk; for the marketplace, And mingle faith and nobles richer than his own heir-apparent garters! If I said-I will dotes on heart, And all contriving, Will \n"
          ]
        }
      ]
    },
    {
      "cell_type": "markdown",
      "source": [
        "At this point you might enjoy finding other sources of text on the internet and replacing the url at the top of this notebook. You can use song lyrics, news articles, etc. You just need to find files ending with '.txt'. Alternatively, you can copy and paste any block of text from any file into colab, assign it to the variable `text`, and then use wordlist=text.split() to get a list of words."
      ],
      "metadata": {
        "id": "cHcYHBcNu65y"
      }
    },
    {
      "cell_type": "markdown",
      "source": [
        "## Bonus:\n",
        "\n",
        "Recall the following recursive function that we used to define the Fibonacci numbers:"
      ],
      "metadata": {
        "id": "SOZ_vzwJoG45"
      }
    },
    {
      "cell_type": "code",
      "source": [
        "def fibonacci(n):\n",
        "  # Base cases: F(0) = 0, F(1) = 1\n",
        "  if n == 0:\n",
        "    return 0\n",
        "  elif n == 1:\n",
        "    return 1\n",
        "  else:\n",
        "    # Recursive case: F(n) = F(n-1) + F(n-2)\n",
        "    return fibonacci(n - 1) + fibonacci(n - 2)\n"
      ],
      "metadata": {
        "id": "KTj2L--_oQDu"
      },
      "execution_count": null,
      "outputs": []
    },
    {
      "cell_type": "markdown",
      "source": [
        "Here is the question.  If you run this line of code:  \n",
        "`fibonacci(17)`  \n",
        "how many times does the function `fibonacci()` get called?  \n",
        "(The answer is not 1597, which is the value returned by the function.)"
      ],
      "metadata": {
        "id": "C-PtiPKwod0m"
      }
    },
    {
      "cell_type": "code",
      "source": [
        "def fibonacci(n, counter=[0]):\n",
        "    counter[0] += 1\n",
        "    if n == 0:\n",
        "        return 0\n",
        "    elif n == 1:\n",
        "        return 1\n",
        "    else:\n",
        "        return fibonacci(n - 1, counter) + fibonacci(n - 2, counter)\n",
        "\n",
        "counter = [0]\n",
        "fibonacci(17, counter)\n",
        "print(\"Number of function calls:\", counter[0])\n"
      ],
      "metadata": {
        "colab": {
          "base_uri": "https://localhost:8080/"
        },
        "id": "ez1yS0ANnYY7",
        "outputId": "35cbce28-5bf8-4b07-f5fa-93ff81d5dbe8"
      },
      "execution_count": null,
      "outputs": [
        {
          "output_type": "stream",
          "name": "stdout",
          "text": [
            "Number of function calls: 5167\n"
          ]
        }
      ]
    }
  ]
}