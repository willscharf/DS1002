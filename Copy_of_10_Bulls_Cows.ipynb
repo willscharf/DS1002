{
  "cells": [
    {
      "cell_type": "markdown",
      "metadata": {
        "id": "view-in-github",
        "colab_type": "text"
      },
      "source": [
        "<a href=\"https://colab.research.google.com/github/willscharf/DS1002/blob/main/Copy_of_10_Bulls_Cows.ipynb\" target=\"_parent\"><img src=\"https://colab.research.google.com/assets/colab-badge.svg\" alt=\"Open In Colab\"/></a>"
      ]
    },
    {
      "cell_type": "markdown",
      "metadata": {
        "id": "lSwr8T3SNrkj"
      },
      "source": [
        "## Bulls and Cows:\n",
        "### Another guessing game.\n",
        "### Assignment due Wednesday 10 April at 10 am\n",
        "\n",
        "General instructions:\n",
        "\n",
        "1. You may work in teams of up to three people.  As usual, if you do this, make sure all names are clearly displayed at the top of your submission, and all team members should submit the same GitHub URL.\n",
        "\n",
        "1. Use only basic Python code.  Do not use `numpy` arrays or functions.\n",
        "\n",
        "2. Practice utilizing the coding concepts we have studied.  \n",
        "\n",
        "3. Write docstrings for all your functions.\n",
        "\n"
      ]
    },
    {
      "cell_type": "markdown",
      "metadata": {
        "id": "UqwNURwLXl0-"
      },
      "source": [
        "Ben Garozzo, Will Scharfenberger, Andrew McNeill"
      ]
    },
    {
      "cell_type": "markdown",
      "metadata": {
        "id": "qrWRyeI2NwHA"
      },
      "source": [
        "### Goal:  program this game\n",
        "In this assignment you will program a version of an old game called Bulls and Cows.  It is somewhat similar to Wordle, but with numbers instead of words (and various other differences . . . read carefully!).\n",
        "\n",
        "The game is played like this:  \n",
        "1. The computer will choose a secret code that the player is trying to guess.\n",
        "2. The secret code will be 4 digits long.  It will use only the digits 1-6, and it will have no repeated digits.  For example the secret code might be 1326 or 6241 but it cannot be 2652 or 4913 or 2601.\n",
        "3. The computer will prompt the user for a guess, and the user will guess.  The guess must follow the same rules (4 digits long, only use digits 1-6, no repeats).  The program should not allow an invalid guess.\n",
        "4. After each guess, the computer will give feedback to the user as follows:  \n",
        "(i) Each digit of the guess that is in the secret code and in the correct position is called a Bull (B).  \n",
        "(ii) Each digit of the guess that exists somewhere in the secret code, but *not* in the same position as in the guess, is called a Cow (C).  \n",
        "(iii) A digit of the guess that doesn't occur anywhere in the secret code is called a miss (X).  \n",
        "The computer will inform the user how many Bulls, how many Cows, and how many misses the user's guess had.  \n",
        "The feedback will always start with B's, then list C's, then list X's.  \n",
        "For example if the secret code is 1326  \n",
        "and the guess is 4316  \n",
        "then the computer should respond with \"BBCX\"  \n",
        "because there are two Bulls (the 3 and the 6 are Bulls, because they occur in the same position in the guess as in the secret code),  \n",
        "one Cow (the 1, which is a correct digit but in the wrong position),  \n",
        "and one Miss (the 4, which does not occur anywhere in the secret code).  \n",
        "> **Important:** the feedback string should always list the Bulls first, then the Cows, then the Misses.  It should **not** tell the user which digits are which!  The only information in the feedback string is how many of each there are.  In the example above, for instance, the feedback is **not** \"XBCB\" but rather \"BBCX\".  This is different from Wordle, if you are familiar with that game.\n",
        "5. The user should then be prompted for another guess.  This guess-with-feedback process should be repeated until the user gets the correct code, at which point the computer should indicate that they have won the game.  However, the user should only be allowed 6 guesses; if they don't guess correctly in 6 attempts, then following the feedback from their final guess they should get a message that they have lost the game, and the secret code should be revealed.\n",
        "\n",
        "\n",
        "\n",
        "\n",
        "\n",
        "\n",
        "\n"
      ]
    },
    {
      "cell_type": "markdown",
      "metadata": {
        "id": "XSH1JULaurD1"
      },
      "source": [
        "### Steps\n",
        "We will build this game using several functions.  \n",
        "\n",
        "1. **Count the Bulls:**  \n",
        "Write a function that takes two lists of the same length, and returns the number of Bulls.  That is, it should return the number of indices where the lists contain the same element.  *(Note:  you don't have to check that the entries are between 1 and 6, or that there are no repeats, etc.  A different function will do that.)*\n",
        "\n",
        "> A sample run might look like\n",
        "```\n",
        "first = [11, 3, 17, 5, 1]\n",
        "second = [20, 2, 17, 3, 1]\n",
        "count_bulls(first,second)\n",
        "```\n",
        "```\n",
        " 2\n",
        "```\n"
      ]
    },
    {
      "cell_type": "markdown",
      "metadata": {
        "id": "pXoOyBk7xmPa"
      },
      "source": [
        "Define your function in the code chunk below.  The function definition command and the return command are pre-populated for you.  You just have to fill in the part which does the actual counting.  I recommend using a list comprehension to do this.\n"
      ]
    },
    {
      "cell_type": "code",
      "execution_count": null,
      "metadata": {
        "id": "vEsRSe8KxlcF"
      },
      "outputs": [],
      "source": [
        "# the Bull-counting function\n",
        "def count_bulls(x,y):\n",
        "  '''\n",
        "  Takes two lists of the same length and computes the number of positions where the list entries agree.\n",
        "  '''\n",
        "  num_bulls =      sum([1 for x, y in zip(first, second) if x == y])       # finish this line of code to make the function function!\n",
        "  return num_bulls"
      ]
    },
    {
      "cell_type": "code",
      "execution_count": null,
      "metadata": {
        "colab": {
          "base_uri": "https://localhost:8080/"
        },
        "id": "9FUJ4etAQ8_M",
        "outputId": "9e9e1ff3-82cc-4f3f-d4d8-598228a961c1"
      },
      "outputs": [
        {
          "data": {
            "text/plain": [
              "2"
            ]
          },
          "execution_count": 26,
          "metadata": {},
          "output_type": "execute_result"
        }
      ],
      "source": [
        "first = [11, 3, 17, 5, 1]\n",
        "second = [20, 2, 17, 3, 1]\n",
        "count_bulls(first,second)"
      ]
    },
    {
      "cell_type": "markdown",
      "metadata": {
        "id": "yACJyJtOzE2U"
      },
      "source": [
        "Add code and/or text chunks below to demonstrate that you have tested your code and that it works correctly."
      ]
    },
    {
      "cell_type": "markdown",
      "metadata": {
        "id": "aMsOmejkzNVN"
      },
      "source": [
        "2. **Count something else:**  \n",
        "To count the cows it will be helpful first to count how many of the elements occur in both strings, without paying attention their positions.\n",
        "Write a function called `count_animals` that takes two lists of the same length, and returns the number of elements of the second list that are also in the first list.  (In the game setting, each such element is either a Bull or a Cow, but don't worry about which is which for this problem.)\n",
        "You may assume the lists do not contain repeated elements, since this will be the case when the function is called in the game.\n",
        "\n",
        "> This time a sample run might look like\n",
        "```\n",
        "first = [11, 3, 17, 5, 1]\n",
        "second = [20, 2, 17, 3, 1]\n",
        "count_animals(first,second)\n",
        "```\n",
        "```\n",
        " 3\n",
        "```\n",
        "\n",
        "This one isn't started for you.  Remember to include a docstring.  This can also be done using a list comprehension, similar to the previous function.\n",
        "\n"
      ]
    },
    {
      "cell_type": "code",
      "execution_count": null,
      "metadata": {
        "id": "yRX219q02e6i"
      },
      "outputs": [],
      "source": [
        "# define your function here\n",
        "def count_animals(x,y):\n",
        "\n",
        "    count = 0\n",
        "    for item in second:\n",
        "        if item in first:\n",
        "            count += 1\n",
        "    return count\n"
      ]
    },
    {
      "cell_type": "code",
      "execution_count": null,
      "metadata": {
        "colab": {
          "base_uri": "https://localhost:8080/"
        },
        "id": "guyb-L-BRIEQ",
        "outputId": "6772ac60-dd76-4199-ad9f-72138d092e0b"
      },
      "outputs": [
        {
          "data": {
            "text/plain": [
              "3"
            ]
          },
          "execution_count": 28,
          "metadata": {},
          "output_type": "execute_result"
        }
      ],
      "source": [
        "first = [11, 3, 17, 5, 1]\n",
        "second = [20, 2, 17, 3, 1]\n",
        "count_animals(first,second)"
      ]
    },
    {
      "cell_type": "markdown",
      "metadata": {
        "id": "HXRNwANS2f-4"
      },
      "source": [
        "Again, demonstrate below that you have tested your code and that it works."
      ]
    },
    {
      "cell_type": "markdown",
      "metadata": {
        "id": "x2DAPkxj2GMo"
      },
      "source": [
        "3. **Count the cows:**  \n",
        "Write a function called `count_cows` that counts the cows.  \n",
        "> This time a sample run might look like\n",
        "```\n",
        "first = [11, 3, 17, 5, 1]\n",
        "second = [20, 2, 17, 3, 1]\n",
        "count_cows(first,second)\n",
        "```\n",
        "```\n",
        " 1\n",
        "```\n",
        "*Use the two previously defined functions to help you!  \n",
        "In fact, remember that the only reason we wrote the `count_animals` function was to help count the cows.*\n",
        "\n",
        "You can do this with only two lines of code, not counting documentation!"
      ]
    },
    {
      "cell_type": "code",
      "execution_count": null,
      "metadata": {
        "id": "QnxnaOPI3YZO"
      },
      "outputs": [],
      "source": [
        "# put the Cow counting function here\n",
        "def count_cows(first, second):\n",
        "    return count_animals(first, second) - count_bulls(first, second)"
      ]
    },
    {
      "cell_type": "code",
      "execution_count": null,
      "metadata": {
        "colab": {
          "base_uri": "https://localhost:8080/"
        },
        "id": "8RsGtNXZR3aW",
        "outputId": "773df5ac-b2c7-4610-b143-d7b08017a135"
      },
      "outputs": [
        {
          "data": {
            "text/plain": [
              "1"
            ]
          },
          "execution_count": 34,
          "metadata": {},
          "output_type": "execute_result"
        }
      ],
      "source": [
        "first = [11, 3, 17, 5, 1]\n",
        "second = [20, 2, 17, 3, 1]\n",
        "count_cows(first,second)"
      ]
    },
    {
      "cell_type": "markdown",
      "metadata": {
        "id": "hWQhYDIVYjXr"
      },
      "source": [
        "4. **Create feedback string**  \n",
        "Write a `build_response_str` function that takes three numbers, say `b,c,l`, and outputs a string of total length `l` that consists of `b` B's, followed by `c` C's, and the rest X's (until the total length is `l`).\n",
        "\n",
        "> Sample run:\n",
        "```\n",
        "build_response_str(4,3,9)\n",
        "```\n",
        "```\n",
        "BBBBCCCXX\n",
        "```"
      ]
    },
    {
      "cell_type": "code",
      "execution_count": null,
      "metadata": {
        "id": "GSimWqUsMaPE"
      },
      "outputs": [],
      "source": [
        "# define your function here\n",
        "def build_response_str(b, c, l):\n",
        "    feedback = ['B'] * b + ['C'] * c + ['X'] * (l - b - c)\n",
        "    return ''.join(feedback)\n",
        "\n"
      ]
    },
    {
      "cell_type": "markdown",
      "metadata": {
        "id": "2D14kxTU7ApH"
      },
      "source": [
        "Test your code here."
      ]
    },
    {
      "cell_type": "code",
      "execution_count": null,
      "metadata": {
        "colab": {
          "base_uri": "https://localhost:8080/"
        },
        "id": "tNccPE9ll08R",
        "outputId": "33d9216b-fd9c-4182-ff2b-6e28df398799"
      },
      "outputs": [
        {
          "name": "stdout",
          "output_type": "stream",
          "text": [
            "BBCX\n"
          ]
        }
      ],
      "source": [
        "b = 2\n",
        "c = 1\n",
        "l = 4\n",
        "print(build_response_str(b, c, l))"
      ]
    },
    {
      "cell_type": "code",
      "execution_count": null,
      "metadata": {
        "colab": {
          "base_uri": "https://localhost:8080/"
        },
        "id": "hJTE9dubm87d",
        "outputId": "9893ed3d-ecaa-4fc7-967a-c89998442e55"
      },
      "outputs": [
        {
          "name": "stdout",
          "output_type": "stream",
          "text": [
            "BBBCCXX\n"
          ]
        }
      ],
      "source": [
        "b = 3\n",
        "c = 2\n",
        "l = 7\n",
        "print(build_response_str(b, c, l))"
      ]
    },
    {
      "cell_type": "markdown",
      "metadata": {
        "id": "omzE6sLKwsMC"
      },
      "source": [
        "5.  **Generate feedback for guesses**  \n",
        "Write a function `response(first,second)` that takes two lists of the same length, and outputs a string consisting of some number of B's followed by some number of C's followed by some number of X's, where the numbers correspond to the things we counted above.  That is, if `first` were the secret code in the game and `second` were the user's guess, then we would print one B for each Bull, one C for each Cow, and one X for each Miss. The total output string should have the same length as the input strings.\n",
        "\n",
        "> Sample run:\n",
        "```\n",
        "first = [11, 3, 17, 5, 1]\n",
        "second = [20, 2, 17, 3, 1]\n",
        "response(first,second)\n",
        "```\n",
        "```\n",
        " BBCXX\n",
        "```\n",
        "\n",
        "With all the functions you've already put in place, this should be simple.  Test your code once it's written.\n"
      ]
    },
    {
      "cell_type": "code",
      "execution_count": null,
      "metadata": {
        "colab": {
          "base_uri": "https://localhost:8080/",
          "height": 35
        },
        "id": "Ypiacy-LTeiU",
        "outputId": "809c7901-f2d3-43fa-8a4c-706486692727"
      },
      "outputs": [
        {
          "data": {
            "application/vnd.google.colaboratory.intrinsic+json": {
              "type": "string"
            },
            "text/plain": [
              "'BBCXX'"
            ]
          },
          "execution_count": 44,
          "metadata": {},
          "output_type": "execute_result"
        }
      ],
      "source": [
        "def response(first, second):\n",
        "\n",
        "    num_bulls = count_bulls(first, second)\n",
        "    num_cows = count_cows(first, second)\n",
        "    total_length = len(first)\n",
        "\n",
        "\n",
        "    num_bulls = min(num_bulls, total_length)\n",
        "    num_cows = min(num_cows, total_length - num_bulls)\n",
        "\n",
        "    bulls_str = 'B' * num_bulls\n",
        "    cows_str = 'C' * num_cows\n",
        "    misses_str = 'X' * (total_length - num_bulls - num_cows)\n",
        "\n",
        "    return bulls_str + cows_str + misses_str\n",
        "\n",
        "\n",
        "first = [11, 3, 17, 5, 1]\n",
        "second = [20, 2, 17, 3, 1]\n",
        "response(first,second)\n",
        "\n"
      ]
    },
    {
      "cell_type": "markdown",
      "metadata": {
        "id": "LWshNPjPZJdQ"
      },
      "source": [
        "6.  **Choose the secret code**  \n",
        "The `random` package, and specifically the `sample` sub-package, is useful for generating random samples.  Try running the following lines of code several times.\n",
        "\n"
      ]
    },
    {
      "cell_type": "code",
      "execution_count": null,
      "metadata": {
        "colab": {
          "base_uri": "https://localhost:8080/"
        },
        "id": "OzEZ5BQZ85jV",
        "outputId": "21ef0bb9-5e41-41f9-fb04-f4a5e0756fe6"
      },
      "outputs": [
        {
          "data": {
            "text/plain": [
              "[4, 6, 5, 1]"
            ]
          },
          "execution_count": 39,
          "metadata": {},
          "output_type": "execute_result"
        }
      ],
      "source": [
        "from random import sample\n",
        "\n",
        "sample(range(1,7),4)  # the first argument is the population to be sampled, and the second is the number of samples\n",
        "                      # recall that `range(a,b)` includes `a` but stops at `b-1`"
      ]
    },
    {
      "cell_type": "markdown",
      "metadata": {
        "id": "N1BOe2Xd-kr4"
      },
      "source": [
        "What type of object is returned by the `sample` function?\n"
      ]
    },
    {
      "cell_type": "code",
      "execution_count": null,
      "metadata": {
        "colab": {
          "base_uri": "https://localhost:8080/"
        },
        "id": "U5AAu9sG-slX",
        "outputId": "77f7adb7-6c14-4e40-b105-db0783c26810"
      },
      "outputs": [
        {
          "name": "stdout",
          "output_type": "stream",
          "text": [
            "<class 'list'>\n"
          ]
        }
      ],
      "source": [
        "from random import sample\n",
        "print(type(sample(range(1,7),4)))\n",
        "\n"
      ]
    },
    {
      "cell_type": "markdown",
      "metadata": {
        "id": "yGZw8xFZ-uN4"
      },
      "source": []
    },
    {
      "cell_type": "markdown",
      "metadata": {
        "id": "mbK84TdIAVsO"
      },
      "source": [
        "7. **Verify the guess**  \n",
        "Finish writing a function called `get_guess` (started below) to prompt the user for a guess and then make sure the input is valid according to the rules of the game.\n",
        "The prompt is already given.  Note that the `list` command converts the input into a list of characters so that it can be passed to the other functions (which are expecting lists).   \n",
        ">**Alert:  you will likely have to think more about data types before this is all over.**"
      ]
    },
    {
      "cell_type": "code",
      "execution_count": null,
      "metadata": {
        "colab": {
          "base_uri": "https://localhost:8080/"
        },
        "id": "13HGg6VvBXSH",
        "outputId": "a0dafa03-dcca-4c0e-f9fd-9e5ff5096ff9"
      },
      "outputs": [
        {
          "name": "stdout",
          "output_type": "stream",
          "text": [
            "Enter your guess (4 digits between 1-6 with no repeats): 1244\n",
            "Your guess is invalid. Please enter a 4 digit number, using only digits 1-6 and no repeating. Try again!\n",
            "Example: 1234\n",
            "Enter your guess (4 digits between 1-6 with no repeats): 1234\n",
            "[1, 2, 3, 4]\n"
          ]
        }
      ],
      "source": [
        "\n",
        "# Add code as needed to verify that the guess is legitimate.\n",
        "# Respond to an illegitimate guess with a message telling the user what the rules are\n",
        "# and asking to try again.\n",
        "def get_guess():\n",
        "    while True:\n",
        "        guess = input(\"Enter your guess (4 digits between 1-6 with no repeats): \")\n",
        "        guess_list = list(guess)\n",
        "        if len(guess_list) != 4 or not guess.isdigit() or len(set(guess_list)) != 4:\n",
        "            print(\"Your guess is invalid. Please enter a 4 digit number, using only digits 1-6 and no repeating. Try again!\")\n",
        "            print(\"Example: 1234\")\n",
        "        else:\n",
        "            return [int(x) for x in guess_list]\n",
        "def validate_guess(guess):\n",
        "\n",
        "    guess_str = ''.join(map(str, guess))\n",
        "    if len(guess_str) != 4 or not guess_str.isdigit():\n",
        "        return False\n",
        "    if len(set(guess_str)) != 4:\n",
        "        return False\n",
        "    for digit in guess_str:\n",
        "        if digit not in '123456':\n",
        "            return False\n",
        "    return True\n",
        "\n",
        "print(get_guess())\n",
        "\n",
        "\n"
      ]
    },
    {
      "cell_type": "markdown",
      "metadata": {
        "id": "PSPYpeZYONf0"
      },
      "source": [
        "As usual, test your code.  What type of objects are we dealing with here?"
      ]
    },
    {
      "cell_type": "markdown",
      "metadata": {
        "id": "WdtvUrA4-uzn"
      },
      "source": [
        "8. **Put it all together**  \n",
        "Finally, fill in the details of the function `bulls_cows` below so that it will play the game of Bulls and Cows when called.  Note that the function takes no arguments and returns nothing.\n"
      ]
    },
    {
      "cell_type": "markdown",
      "metadata": {
        "id": "z7xuO2BhXkfl"
      },
      "source": []
    },
    {
      "cell_type": "code",
      "execution_count": null,
      "metadata": {
        "colab": {
          "background_save": true,
          "base_uri": "https://localhost:8080/"
        },
        "id": "I6h5kzJ8f0a-",
        "outputId": "21e98938-f0dd-48b8-a8f9-44e0276cee14"
      },
      "outputs": [
        {
          "name": "stdout",
          "output_type": "stream",
          "text": [
            "Welcome to Bulls and Cows!\n",
            "Try to guess the 4-digit secret code using digits 1-6 with no repeats.\n"
          ]
        }
      ],
      "source": [
        "import random\n",
        "\n",
        "def generate_secret_code():\n",
        "\n",
        "    digits = [str(i) for i in range(1, 7)]\n",
        "    random.shuffle(digits)\n",
        "    return ''.join(digits[:4])\n",
        "\n",
        "def validate_guess(guess):\n",
        "\n",
        "    guess_str = ''.join(map(str, guess))\n",
        "    if len(guess_str) != 4 or not guess_str.isdigit():\n",
        "        return False\n",
        "    if len(set(guess_str)) != 4:\n",
        "        return False\n",
        "    for digit in guess_str:\n",
        "        if digit not in '123456':\n",
        "            return False\n",
        "    return True\n",
        "\n",
        "def count_bulls(first, second):\n",
        "\n",
        "    num_bulls = sum([1 for x, y in zip(first, second) if x == y])\n",
        "    return num_bulls\n",
        "\n",
        "def count_cows(first, second):\n",
        "\n",
        "    num_cows = count_animals(first, second) - count_bulls(first, second)\n",
        "    return num_cows\n",
        "\n",
        "def count_animals(first, second):\n",
        "\n",
        "    count = 0\n",
        "    for item in second:\n",
        "        if item in first:\n",
        "            count += 1\n",
        "    return count\n",
        "\n",
        "def response(first, second):\n",
        "\n",
        "    num_bulls = count_bulls(first, second)\n",
        "    num_cows = count_cows(first, second)\n",
        "    total_length = len(first)\n",
        "\n",
        "\n",
        "    num_bulls = min(num_bulls, total_length)\n",
        "    num_cows = min(num_cows, total_length - num_bulls)\n",
        "\n",
        "    bulls_str = 'B' * num_bulls\n",
        "    cows_str = 'C' * num_cows\n",
        "    misses_str = 'X' * (total_length - num_bulls - num_cows)\n",
        "\n",
        "    return bulls_str + cows_str + misses_str\n",
        "\n",
        "def get_guess():\n",
        "\n",
        "    while True:\n",
        "        guess = input(\"Enter your guess (4 digits between 1-6 with no repeats): \")\n",
        "        guess_list = list(guess)\n",
        "        if len(guess_list) != 4 or not guess.isdigit() or len(set(guess_list)) != 4:\n",
        "            print(\"Your guess is invalid. Please enter a 4 digit number, using only digits 1-6 and no repeating. Try again!\")\n",
        "            print(\"Example: 1234\")\n",
        "        else:\n",
        "            return [int(x) for x in guess_list]\n",
        "\n",
        "def bulls_cows():\n",
        "\n",
        "    secret_code = generate_secret_code()\n",
        "    secret_code_list = [int(x) for x in secret_code]\n",
        "    attempts = 0\n",
        "    print(\"Welcome to Bulls and Cows!\")\n",
        "    print(\"Try to guess the 4-digit secret code using digits 1-6 with no repeats.\")\n",
        "    while attempts < 6:\n",
        "        guess = get_guess()\n",
        "        if not validate_guess(guess):\n",
        "            continue\n",
        "        feedback = response(secret_code_list, guess)\n",
        "        print(f\"Feedback: {feedback}\")\n",
        "        if feedback == 'BBBB':\n",
        "            print(\"You guessed it!\")\n",
        "            return\n",
        "        attempts += 1\n",
        "    print(f\"You have run out of guesses. The secret code was {secret_code}.\")\n",
        "\n",
        "\n",
        "bulls_cows()\n"
      ]
    },
    {
      "cell_type": "markdown",
      "metadata": {
        "id": "NzjqX_9K3OuV"
      },
      "source": [
        "Play the game a few times below.  Make sure it behaves as you think it should!"
      ]
    },
    {
      "cell_type": "code",
      "execution_count": null,
      "metadata": {
        "colab": {
          "base_uri": "https://localhost:8080/"
        },
        "id": "b-HELV-z3OuW",
        "outputId": "1539bb5f-3c2b-4e71-86ad-693983845706"
      },
      "outputs": [
        {
          "name": "stdout",
          "output_type": "stream",
          "text": [
            "Welcome to Bulls and Cows!\n",
            "Try to guess the 4-digit secret code using digits 1-6 with no repeats.\n"
          ]
        }
      ],
      "source": [
        "bulls_cows()"
      ]
    },
    {
      "cell_type": "code",
      "execution_count": null,
      "metadata": {
        "colab": {
          "base_uri": "https://localhost:8080/"
        },
        "id": "inzOdtimDfGU",
        "outputId": "eac9defa-84c0-4f46-c417-dfd711197913"
      },
      "outputs": [
        {
          "name": "stdout",
          "output_type": "stream",
          "text": [
            "Welcome to Bulls and Cows!\n",
            "Try to guess the 4-digit secret code using digits 1-6 with no repeats.\n",
            "Enter your guess (4 digits between 1-6 with no repeats): 12324\n",
            "Your guess is invalid. Please enter a 4 digit number, using only digits 1-6 and no repeating. Try again!\n",
            "Example: 1234\n",
            "Enter your guess (4 digits between 1-6 with no repeats): 1234\n",
            "Feedback: BCCX\n",
            "Enter your guess (4 digits between 1-6 with no repeats): 2341\n",
            "Feedback: BCCX\n",
            "Enter your guess (4 digits between 1-6 with no repeats): 2345\n",
            "Feedback: BBCX\n",
            "Enter your guess (4 digits between 1-6 with no repeats): 5421\n",
            "Feedback: BCCX\n",
            "Enter your guess (4 digits between 1-6 with no repeats): 1291\n",
            "Your guess is invalid. Please enter a 4 digit number, using only digits 1-6 and no repeating. Try again!\n",
            "Example: 1234\n",
            "Enter your guess (4 digits between 1-6 with no repeats): 1235\n",
            "Feedback: BBCC\n",
            "Enter your guess (4 digits between 1-6 with no repeats): 4635\n",
            "Feedback: BCXX\n",
            "You have run out of guesses. The secret code was 1325.\n"
          ]
        }
      ],
      "source": [
        "bulls_cows()"
      ]
    },
    {
      "cell_type": "code",
      "execution_count": null,
      "metadata": {
        "id": "Eqw-5laFDfkG"
      },
      "outputs": [],
      "source": [
        "bulls_cows()"
      ]
    },
    {
      "cell_type": "markdown",
      "metadata": {
        "id": "a58-KCX4ELRO"
      },
      "source": [
        "9. **Reflect**  \n",
        "Think of at least three ways you could change the rules or setup of the game, and in each case describe (in one sentence, you don't need to write code) what you would have to do to modify your code to play the new version of the game.  Use a text box below for each of your ideas."
      ]
    },
    {
      "cell_type": "markdown",
      "metadata": {
        "id": "Jof2vIZSEfwo"
      },
      "source": [
        "(1) One way we could have changed the set up was counting invalid guesses still as a guess, making the game overall harder. To do this, we would modify the verified guesses code loop so that it would still count towards one of the 6 guesses"
      ]
    },
    {
      "cell_type": "markdown",
      "metadata": {
        "id": "f2_QlBavEiqW"
      },
      "source": [
        "(2) Another way we could have changed the set up is to include all digits 1-9. This would make the game way harder, therefore it would be necessary for us to probably increase the attempt number and then also modifying the random sample generator from range 1,7 to range 1,10. Additionally, we would have to modify our validated guesses code to include digits 1-9."
      ]
    },
    {
      "cell_type": "markdown",
      "metadata": {
        "id": "sqfq2EFpEjZt"
      },
      "source": [
        "(3) Lastly, we could have changed the set up to include repeated digits. Likewise to the last change, we would have to modify the random sample generator to generate duplicates and then also modify  our validated guess code to include repeat digits"
      ]
    }
  ],
  "metadata": {
    "colab": {
      "provenance": [],
      "include_colab_link": true
    },
    "kernelspec": {
      "display_name": "Python 3",
      "name": "python3"
    },
    "language_info": {
      "name": "python"
    }
  },
  "nbformat": 4,
  "nbformat_minor": 0
}