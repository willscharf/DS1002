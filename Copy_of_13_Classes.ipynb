{
  "nbformat": 4,
  "nbformat_minor": 0,
  "metadata": {
    "colab": {
      "provenance": [],
      "include_colab_link": true
    },
    "kernelspec": {
      "name": "python3",
      "display_name": "Python 3"
    },
    "language_info": {
      "name": "python"
    }
  },
  "cells": [
    {
      "cell_type": "markdown",
      "metadata": {
        "id": "view-in-github",
        "colab_type": "text"
      },
      "source": [
        "<a href=\"https://colab.research.google.com/github/willscharf/DS1002/blob/main/Copy_of_13_Classes.ipynb\" target=\"_parent\"><img src=\"https://colab.research.google.com/assets/colab-badge.svg\" alt=\"Open In Colab\"/></a>"
      ]
    },
    {
      "cell_type": "markdown",
      "source": [
        "## Assignment:  Classes\n",
        "### Due Sunday 28 April at 10pm"
      ],
      "metadata": {
        "id": "5Vy93BSp9Tum"
      }
    },
    {
      "cell_type": "markdown",
      "source": [
        "Andrew McNeill, Ben Garozzo, Will Scharfenberger"
      ],
      "metadata": {
        "id": "3P4pDzZqlPxO"
      }
    },
    {
      "cell_type": "markdown",
      "source": [
        "1.  Define a class called `Person` that has attributes `lastName`, `firstName`, `mother`, and `father`.  Both `mother` and `father` should have default value `unknown`.\n",
        "\n",
        "  Include a `__str__()` function that returns a string of the form '`firstName` `lastName`'.\n",
        "\n",
        "  Include a `__repr__()` function that returns a string that can be evaluated to recreate the `Person` object.\n",
        "\n"
      ],
      "metadata": {
        "id": "vcj5XQAI9Wsb"
      }
    },
    {
      "cell_type": "code",
      "source": [
        "class Person:\n",
        "    def __init__(self, lastName, firstName, mother='unknown', father='unknown'):\n",
        "        self.lastName = lastName\n",
        "        self.firstName = firstName\n",
        "        self.mother = mother\n",
        "        self.father = father\n",
        "\n",
        "    def __str__(self):\n",
        "        return f'{self.firstName} {self.lastName}'\n",
        "\n",
        "    def __repr__(self):\n",
        "        return f\"Person('{self.lastName}', '{self.firstName}', '{self.mother}', '{self.father}')\"\n",
        "\n",
        "    person1 = Person(\"Garazzo\", \"Ben\")\n",
        "    person2 = Person(\"Scharfenberger\", \"Will\")\n",
        "\n",
        "    print(person1)\n",
        "\n",
        "    print(repr(person2))"
      ],
      "metadata": {
        "id": "mjHDwHv3EpVe",
        "colab": {
          "base_uri": "https://localhost:8080/"
        },
        "outputId": "96a57d06-0374-4440-b8f4-bb8355d350d1"
      },
      "execution_count": 13,
      "outputs": [
        {
          "output_type": "stream",
          "name": "stdout",
          "text": [
            "Ben Garazzo\n",
            "Person('Scharfenberger', 'Will', 'unknown', 'unknown')\n"
          ]
        }
      ]
    },
    {
      "cell_type": "markdown",
      "source": [
        "Create a person (i.e., a `Person` object) called `p` with unknown parents.  (You will need to give your person a first and last name.) Check the type of `p`.  Include all inputs and outputs."
      ],
      "metadata": {
        "id": "-ppMsEIVHINl"
      }
    },
    {
      "cell_type": "code",
      "source": [
        "p = Person(\"Garozzo\", \"Ben\")\n",
        "print(type(p))\n"
      ],
      "metadata": {
        "id": "5bwid_6gHIBH",
        "outputId": "b0cd888d-5aa8-4f4d-8d62-e0d5a3b91fca",
        "colab": {
          "base_uri": "https://localhost:8080/"
        }
      },
      "execution_count": 14,
      "outputs": [
        {
          "output_type": "stream",
          "name": "stdout",
          "text": [
            "<class '__main__.Person'>\n"
          ]
        }
      ]
    },
    {
      "cell_type": "markdown",
      "source": [
        "Verify that your `__str__` and `__repr__` functions are doing what they are supposed to do.  Include all inputs and outputs."
      ],
      "metadata": {
        "id": "Z6zlUC3xRtal"
      }
    },
    {
      "cell_type": "markdown",
      "source": [],
      "metadata": {
        "id": "Bq8DC31JanCI"
      }
    },
    {
      "cell_type": "code",
      "source": [
        "p = Person(\"Garozzo\", \"Ben\")\n",
        "print(\"String representation using __str__():\", str(p))\n",
        "print(\"String representation using __repr__():\", repr(p))\n"
      ],
      "metadata": {
        "id": "jZO0dBQYRs-K",
        "outputId": "3f11c609-affa-47f9-e2bd-2f42b3500124",
        "colab": {
          "base_uri": "https://localhost:8080/"
        }
      },
      "execution_count": 4,
      "outputs": [
        {
          "output_type": "stream",
          "name": "stdout",
          "text": [
            "String representation using __str__(): Ben Garozzo\n",
            "String representation using __repr__(): Person('Garozzo', 'Ben', 'unknown', 'unknown')\n"
          ]
        }
      ]
    },
    {
      "cell_type": "markdown",
      "source": [
        "\n",
        "\n",
        "```\n",
        "# This is formatted as code\n",
        "```\n",
        "\n",
        "Suppose the mother of `p` has been found and is named Taylor Swift.  Create a new person named Taylor Swift, and make her the mother of `p`:\n",
        "\n",
        "```\n",
        "> p.mother\n",
        "'Taylor Swift'\n",
        "```"
      ],
      "metadata": {
        "id": "1mOAThQiHzoQ"
      }
    },
    {
      "cell_type": "code",
      "source": [
        "mother_taylor = Person(\"Swift\", \"Taylor\")\n",
        "p.mother = mother_taylor"
      ],
      "metadata": {
        "id": "NYbDOorpHymz"
      },
      "execution_count": 10,
      "outputs": []
    },
    {
      "cell_type": "markdown",
      "source": [
        "2.  Add some methods to your class.  Start by copying the `class` definition you already wrote.  Then, inside the `class` definition:\n",
        "\n",
        "  (a) Write a method called `unknownParent()` which returns `True` if any parent is 'unknown' and `False` otherwise.\n",
        "\n",
        "  (b) Write a method called `maternalGrandmother()` which returns the mother's mother.  If the mother is unknown, it should return 'unknown'.\n",
        "\n"
      ],
      "metadata": {
        "id": "1g1pcrmFHzGh"
      }
    },
    {
      "cell_type": "code",
      "source": [
        "class Person:\n",
        "    def __init__(self, lastName, firstName, mother='unknown', father='unknown'):\n",
        "        self.lastName = lastName\n",
        "        self.firstName = firstName\n",
        "        self.mother = mother\n",
        "        self.father = father\n",
        "\n",
        "    def __str__(self):\n",
        "        return f'{self.firstName} {self.lastName}'\n",
        "\n",
        "    def __repr__(self):\n",
        "        return f\"Person('{self.lastName}', '{self.firstName}', '{self.mother}', '{self.father}')\"\n",
        "\n",
        "    def unknownParent(self):\n",
        "        return self.mother == 'unknown' or self.father == 'unknown'\n",
        "\n",
        "    def maternalGrandmother(self):\n",
        "        if self.mother != 'unknown':\n",
        "            return self.mother.mother\n",
        "        else:\n",
        "            return 'unknown'\n",
        "\n",
        "    # create people\n",
        "    grandmother = Person(\"Garazzo\", \"Ella\")\n",
        "    mother = Person(\"Mcneil\", \"Mary\", grandmother)\n",
        "    person = Person(\"Scharfenberger\", \"Kate\", mother)\n",
        "\n",
        "    print(person)\n",
        "\n",
        "    print(person.unknownParent())\n",
        "\n",
        "    print(person.maternalGrandmother())\n"
      ],
      "metadata": {
        "id": "7mIxJGwwKTpv",
        "colab": {
          "base_uri": "https://localhost:8080/"
        },
        "outputId": "f3bad6cd-9658-43b8-d83b-4df28c23b93d"
      },
      "execution_count": 9,
      "outputs": [
        {
          "output_type": "stream",
          "name": "stdout",
          "text": [
            "Kate Scharfenberger\n",
            "True\n",
            "Ella Garazzo\n"
          ]
        }
      ]
    },
    {
      "cell_type": "markdown",
      "source": [
        "Create enough `Person` objects to test whether your methods are working properly.  Show all your inputs and outputs.  It is up to you to demonstrate that you have thoroughly tested the code.  You may use additional code and/or text chunks if it helps."
      ],
      "metadata": {
        "id": "l9-4gxd8FxAQ"
      }
    },
    {
      "cell_type": "code",
      "source": [
        "\n",
        "p1 = Person(\"Garozzo\", \"Ben\")\n",
        "p2 = Person(\"Will\", \"Scharf\")\n",
        "p3 = Person(\"Mcneill\", \"Andrew\")\n",
        "p4 = Person(\"Swift\", \"Taylor\", mother=p3)\n",
        "\n",
        "\n",
        "print(\"Testing unknownParent() method:\")\n",
        "print(\"p1:\", p1.unknownParent())\n",
        "print(\"p2:\", p2.unknownParent())\n",
        "print(\"p3:\", p3.unknownParent())\n",
        "print(\"p4:\", p4.unknownParent())\n",
        "print()\n",
        "\n",
        "\n",
        "print(\"Testing maternalGrandmother() method:\")\n",
        "print(\"p1 maternal grandmother:\", p1.maternalGrandmother())\n",
        "print(\"p2 maternal grandmother:\", p2.maternalGrandmother())\n",
        "print(\"p3 maternal grandmother:\", p3.maternalGrandmother())\n",
        "print(\"p4 maternal grandmother:\", p4.maternalGrandmother())\n",
        "\n",
        "\n",
        "\n",
        "p5 = Person(\"Doe\", \"David\", father=p1)\n",
        "p6 = Person(\"Swift\", \"Olivia\", mother=p3, father=p5)\n",
        "\n",
        "\n",
        "print(\"Additional testing for unknownParent() method:\")\n",
        "print(\"p5:\", p5.unknownParent())\n",
        "print(\"p6:\", p6.unknownParent())\n",
        "print()\n",
        "\n",
        "print(\"Additional testing for maternalGrandmother() method:\")\n",
        "print(\"p5 maternal grandmother:\", p5.maternalGrandmother())\n",
        "print(\"p6 maternal grandmother:\", p6.maternalGrandmother())\n"
      ],
      "metadata": {
        "id": "gX1qpcKzFwoZ",
        "colab": {
          "base_uri": "https://localhost:8080/"
        },
        "outputId": "8ab93c8b-a5b7-4f37-9a27-9a93e6b1c69f"
      },
      "execution_count": 7,
      "outputs": [
        {
          "output_type": "stream",
          "name": "stdout",
          "text": [
            "Testing unknownParent() method:\n",
            "p1: True\n",
            "p2: True\n",
            "p3: True\n",
            "p4: True\n",
            "\n",
            "Testing maternalGrandmother() method:\n",
            "p1 maternal grandmother: unknown\n",
            "p2 maternal grandmother: unknown\n",
            "p3 maternal grandmother: unknown\n",
            "p4 maternal grandmother: unknown\n",
            "Additional testing for unknownParent() method:\n",
            "p5: True\n",
            "p6: False\n",
            "\n",
            "Additional testing for maternalGrandmother() method:\n",
            "p5 maternal grandmother: unknown\n",
            "p6 maternal grandmother: unknown\n"
          ]
        }
      ]
    }
  ]
}