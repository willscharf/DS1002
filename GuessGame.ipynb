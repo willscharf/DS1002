{
  "nbformat": 4,
  "nbformat_minor": 0,
  "metadata": {
    "colab": {
      "provenance": [],
      "authorship_tag": "ABX9TyPCuov9bDnT5HAqHszc45zF",
      "include_colab_link": true
    },
    "kernelspec": {
      "name": "python3",
      "display_name": "Python 3"
    },
    "language_info": {
      "name": "python"
    }
  },
  "cells": [
    {
      "cell_type": "markdown",
      "metadata": {
        "id": "view-in-github",
        "colab_type": "text"
      },
      "source": [
        "<a href=\"https://colab.research.google.com/github/willscharf/DS1002/blob/main/GuessGame.ipynb\" target=\"_parent\"><img src=\"https://colab.research.google.com/assets/colab-badge.svg\" alt=\"Open In Colab\"/></a>"
      ]
    },
    {
      "cell_type": "code",
      "execution_count": 6,
      "metadata": {
        "colab": {
          "base_uri": "https://localhost:8080/"
        },
        "id": "7Z4VkLluJMdc",
        "outputId": "e263787b-aa38-4923-b914-5b44e00b6947"
      },
      "outputs": [
        {
          "output_type": "stream",
          "name": "stdout",
          "text": [
            "Welcome! In this game you will try and guess and random integer from 1-100\n",
            "Your Guess:50\n",
            "Too Low\n",
            "Your Guess:75\n",
            "Too High\n",
            "Your Guess:65\n",
            "Too High\n",
            "Your Guess:57\n",
            "Too High\n",
            "Your Guess:53\n",
            "Too Low\n",
            "Your Guess:54\n",
            "You got it!\n",
            "It took you 6 guesses\n"
          ]
        }
      ],
      "source": [
        "##Andrew McNeill\n",
        "print(\"Welcome! In this game you will try and guess and random integer from 1-100\")\n",
        "import numpy as np\n",
        "i=0\n",
        "number = np.random.randint(1,101)\n",
        "while True:\n",
        "  try:\n",
        "    i+=1\n",
        "    guess = int(input(\"Your Guess:\"))\n",
        "    if guess < 1 or guess > 100:\n",
        "      print(\"The guess must be an integer between 1 and 100\")\n",
        "      i-=1\n",
        "    if guess == number:\n",
        "      print(\"You got it!\")\n",
        "      if i==1:\n",
        "        print(f\"It took you {i} guesses\")\n",
        "      else:\n",
        "        print(f\"It took you {i} guesses\")\n",
        "      break\n",
        "    elif guess < number and 1 <= guess <= 100:\n",
        "      print(\"Too Low\")\n",
        "    elif guess > number and 1 <= guess <= 100:\n",
        "      print(\"Too High\")\n",
        "  except ValueError:\n",
        "      print(\"The guess must be an integer\")\n",
        "      i-=1\n",
        "  except:\n",
        "      print(\"Invalid guess. Eneter and integer between 1 and 100.\")\n",
        "      i-=1\n"
      ]
    }
  ]
}